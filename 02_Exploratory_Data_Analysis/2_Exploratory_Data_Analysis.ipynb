{
 "cells": [
  {
   "cell_type": "markdown",
   "metadata": {},
   "source": [
    "# **2. EDA and Feature Engineering**"
   ]
  },
  {
   "cell_type": "markdown",
   "metadata": {},
   "source": [
    "## *Table of Contents*"
   ]
  },
  {
   "cell_type": "markdown",
   "metadata": {},
   "source": [
    "1. [Data Cleaning](../01_Data_Cleaning/1_Data_Cleaning.ipynb)\n",
    "2. [**EDA and Feature Engineering**](./2_Exploratory_Data_Analysis.ipynb)\n",
    "   1. [*Library Imports*](#Library-Imports)\n",
    "   2. [*File Importation*](#File-Importation)\n",
    "   3. [*Analysis*](#Analysis)\n",
    "      1. [Descriptive Statistics](#Descriptive-Statistics)\n",
    "      2. [Histogram Plots](#Histogram-Plots)\n",
    "      3. [Skewness Check](#Skewness-Check)\n",
    "      4. [Q-Q Plots](#Q-Q-Plots)\n",
    "      5. [Box Plots](#Box-Plots)\n",
    "      6. [Count Plots](#Count-Plots)\n",
    "      7. [Pair Plot](#Pair-Plot)\n",
    "      8. [Correlation Matrix](#Correlation-Matrix)\n",
    "      9. [Chi-Square Test](#Chi-Square-Test)\n",
    "3. [Regression Modeling](../03_Regression_Models/3_Regression_Modeling.ipynb)\n",
    "4. [Time Series](../04_Time_Series_Analysis/4_Time_Series.ipynb)"
   ]
  },
  {
   "cell_type": "markdown",
   "metadata": {},
   "source": [
    "## **Library Imports**"
   ]
  },
  {
   "cell_type": "markdown",
   "metadata": {},
   "source": [
    "### Standard library imports"
   ]
  },
  {
   "cell_type": "code",
   "execution_count": null,
   "metadata": {},
   "outputs": [],
   "source": [
    "import sys # Provides a way of using operating system dependent functionality\n",
    "import os  # For interacting with the operating system\n",
    "from itertools import combinations  # For creating combinations of elements"
   ]
  },
  {
   "cell_type": "markdown",
   "metadata": {},
   "source": [
    "### Third-party imports"
   ]
  },
  {
   "cell_type": "code",
   "execution_count": null,
   "metadata": {},
   "outputs": [],
   "source": [
    "import pandas as pd  # For data manipulation and analysis\n",
    "import numpy as np  # For scientific computing and array objects\n",
    "import matplotlib.pyplot as plt  # For creating static, animated, and interactive visualizations\n",
    "import seaborn as sns  # For data visualization based on matplotlib\n",
    "from scipy import stats  # For scientific and technical computing\n",
    "from sklearn.preprocessing import MinMaxScaler  # For feature scaling\n",
    "from scipy.stats import chi2_contingency  # For performing chi-square contingency tests"
   ]
  },
  {
   "cell_type": "markdown",
   "metadata": {},
   "source": [
    "### Local application imports"
   ]
  },
  {
   "cell_type": "code",
   "execution_count": null,
   "metadata": {},
   "outputs": [],
   "source": [
    "# Define the absolute path of the parent directory of the script's grandparent directory\n",
    "# This is useful for module importation from a different directory structure\n",
    "parent_dir = os.path.dirname(os.getcwd())\n",
    "sys.path.insert(0, parent_dir)\n",
    "\n",
    "# Local application imports\n",
    "from utils import plot_utils, func_utils"
   ]
  },
  {
   "cell_type": "markdown",
   "metadata": {},
   "source": [
    "## **File Importation**"
   ]
  },
  {
   "cell_type": "code",
   "execution_count": null,
   "metadata": {},
   "outputs": [],
   "source": [
    "# Determine the absolute path to the directory containing the current script\n",
    "script_dir = os.path.dirname(os.getcwd())\n",
    "\n",
    "# Construct the path to the data file\n",
    "data_path = os.path.join(script_dir, '01_Data_Cleaning', '1_cleaned_melb_data.csv')\n",
    "\n",
    "# Load dataset containing cleaned Melbourne housing data\n",
    "melb_data = pd.read_csv(data_path)"
   ]
  },
  {
   "cell_type": "markdown",
   "metadata": {},
   "source": [
    "## **Analysis**"
   ]
  },
  {
   "cell_type": "code",
   "execution_count": null,
   "metadata": {},
   "outputs": [],
   "source": [
    "# Define quantitative and categorical columns for subsequent analysis\n",
    "quan_columns = ['Price', 'Bedroom', 'Bathroom', 'Car', 'Distance', 'Landsize', 'BuildingArea']\n",
    "cat_columns = ['Postcode', 'Suburb', 'Regionname', 'CouncilArea', 'Type', 'SellerG', 'Method', 'Year', 'Month']"
   ]
  },
  {
   "cell_type": "markdown",
   "metadata": {},
   "source": [
    "### Descriptive Statistics"
   ]
  },
  {
   "cell_type": "code",
   "execution_count": null,
   "metadata": {},
   "outputs": [],
   "source": [
    "# Display descriptive statistics to summarize central tendency, dispersion, and shape\n",
    "print(melb_data.describe())"
   ]
  },
  {
   "cell_type": "markdown",
   "metadata": {},
   "source": [
    "### Histogram Plots"
   ]
  },
  {
   "cell_type": "code",
   "execution_count": null,
   "metadata": {},
   "outputs": [],
   "source": [
    "# Plot histograms for quantitative columns in 'melb_data' across a 3x3 grid.\n",
    "plot_utils.plot_hist(data=melb_data, column_list=quan_columns, rows=3, cols=3)"
   ]
  },
  {
   "cell_type": "markdown",
   "metadata": {},
   "source": [
    "### Skewness Check"
   ]
  },
  {
   "cell_type": "code",
   "execution_count": null,
   "metadata": {},
   "outputs": [],
   "source": [
    "# Assess skewness of quantitative variables\n",
    "print(melb_data[quan_columns].skew())"
   ]
  },
  {
   "cell_type": "markdown",
   "metadata": {},
   "source": [
    "### Q-Q Plots"
   ]
  },
  {
   "cell_type": "code",
   "execution_count": null,
   "metadata": {},
   "outputs": [],
   "source": [
    "# Generate Q-Q plots for quantitative columns in 'melb_data' on a 3x3 grid.\n",
    "plot_utils.plot_qq(data=melb_data, column_list=quan_columns, rows=3, cols=3)"
   ]
  },
  {
   "cell_type": "markdown",
   "metadata": {},
   "source": [
    "### Box Plots"
   ]
  },
  {
   "cell_type": "code",
   "execution_count": null,
   "metadata": {},
   "outputs": [],
   "source": [
    "# Create box plots for quantitative columns in 'melb_data' arranged in a 3x3 grid.\n",
    "plot_utils.plot_box(data=melb_data, column_list=quan_columns, rows=3, cols=3)"
   ]
  },
  {
   "cell_type": "code",
   "execution_count": null,
   "metadata": {},
   "outputs": [],
   "source": [
    "# Plot box plots for categorical columns in 'melb_data' with price consideration over a 3x3 grid.\n",
    "plot_utils.plot_box(data=melb_data, column_list=cat_columns, price=True, rows=3, cols=3)"
   ]
  },
  {
   "cell_type": "code",
   "execution_count": null,
   "metadata": {},
   "outputs": [],
   "source": [
    "# Display bar plots for categorical columns in 'melb_data' configured in a 3x3 grid layout.\n",
    "plot_utils.plot_bar(data=melb_data, column_list=cat_columns, rows=3, cols=3)"
   ]
  },
  {
   "cell_type": "markdown",
   "metadata": {},
   "source": [
    "### Count Plots"
   ]
  },
  {
   "cell_type": "code",
   "execution_count": null,
   "metadata": {},
   "outputs": [],
   "source": [
    "# Plot count plots for categorical columns in 'melb_data', structured within a 3x3 grid.\n",
    "plot_utils.plot_count(data=melb_data, column_list=cat_columns, rows=3, cols=3)"
   ]
  },
  {
   "cell_type": "markdown",
   "metadata": {},
   "source": [
    "### Pair Plot"
   ]
  },
  {
   "cell_type": "code",
   "execution_count": null,
   "metadata": {},
   "outputs": [],
   "source": [
    "# Visualize pair-wise relationships to identify potential correlations and trends\n",
    "sns.pairplot(data=melb_data[quan_columns])\n",
    "plt.show()  # Display the pairplot"
   ]
  },
  {
   "cell_type": "markdown",
   "metadata": {},
   "source": [
    "### Correlation Matrix"
   ]
  },
  {
   "cell_type": "code",
   "execution_count": null,
   "metadata": {},
   "outputs": [],
   "source": [
    "# Display correlation matrix to assess linear relationships between variables\n",
    "correlation_matrix = melb_data[quan_columns].corr()\n",
    "sns.heatmap(correlation_matrix, annot=True)\n",
    "plt.title(\"Correlation Matrix\")\n",
    "plt.show()"
   ]
  },
  {
   "cell_type": "markdown",
   "metadata": {},
   "source": [
    "### Chi-Square Test"
   ]
  },
  {
   "cell_type": "code",
   "execution_count": null,
   "metadata": {},
   "outputs": [],
   "source": [
    "# List of combinations of categorical columns taken two at a time\n",
    "cat_comb = list(combinations(cat_columns, 2))\n",
    "\n",
    "for pair in cat_comb:\n",
    "    # Create a contingency table for the current pair of categorical columns\n",
    "    table = pd.crosstab(melb_data[pair[0]], melb_data[pair[1]])\n",
    "\n",
    "    # Perform the chi-square test on the contingency table\n",
    "    chi2_stat, p_value, dof, expected = chi2_contingency(table)\n",
    "\n",
    "    # Print the pair, Chi-square statistic, and p-value\n",
    "    print(f\"Pair: {pair}, Chi2 Statistic: {chi2_stat}, p-value: {p_value}\")"
   ]
  }
 ],
 "metadata": {
  "kernelspec": {
   "display_name": "Python 3",
   "language": "python",
   "name": "python3"
  },
  "language_info": {
   "codemirror_mode": {
    "name": "ipython",
    "version": 3
   },
   "file_extension": ".py",
   "mimetype": "text/x-python",
   "name": "python",
   "nbconvert_exporter": "python",
   "pygments_lexer": "ipython3",
   "version": "3.11.3"
  }
 },
 "nbformat": 4,
 "nbformat_minor": 2
}
