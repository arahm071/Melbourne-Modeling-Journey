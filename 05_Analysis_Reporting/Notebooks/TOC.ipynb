{
 "cells": [
  {
   "cell_type": "markdown",
   "metadata": {},
   "source": [
    "# **Table of Contents**"
   ]
  },
  {
   "cell_type": "markdown",
   "metadata": {},
   "source": [
    "1. [Data Cleaning](./01_Data_Cleaning.ipynb)\n",
    "2. [EDA and Feature Engineering](./02_Exploratory_Data_Analysis.ipynb)\n",
    "3. [Regression Modeling](./03_Regression_Modelling.ipynb)\n",
    "4. [Time_Series](./04_Time_Series.ipynb)"
   ]
  }
 ],
 "metadata": {
  "language_info": {
   "name": "python"
  }
 },
 "nbformat": 4,
 "nbformat_minor": 2
}
