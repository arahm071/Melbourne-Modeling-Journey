{
 "cells": [
  {
   "cell_type": "markdown",
   "metadata": {},
   "source": [
    "# **1. Introduction**"
   ]
  },
  {
   "cell_type": "markdown",
   "metadata": {},
   "source": [
    "## *Table of Contents*"
   ]
  },
  {
   "cell_type": "markdown",
   "metadata": {},
   "source": [
    "1. [**Introduction**](./01_Introduction.ipynb)\n",
    "2. [Data Cleaning](./02_Data_Cleaning.ipynb)\n",
    "3. [EDA and Feature Engineering](./03_Exploratory_Data_Analysis.ipynb)\n",
    "4. [Regression Modeling](./04_Regression_Modeling.ipynb)\n",
    "5. [Time_Series](./05_Time_Series.ipynb)\n",
    "6. [Conclusion](./06_Conclusion.ipynb)"
   ]
  },
  {
   "cell_type": "markdown",
   "metadata": {},
   "source": []
  }
 ],
 "metadata": {
  "kernelspec": {
   "display_name": "base",
   "language": "python",
   "name": "python3"
  },
  "language_info": {
   "name": "python",
   "version": "3.11.3"
  }
 },
 "nbformat": 4,
 "nbformat_minor": 2
}
