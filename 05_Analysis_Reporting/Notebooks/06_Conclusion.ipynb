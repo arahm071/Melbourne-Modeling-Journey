{
 "cells": [
  {
   "cell_type": "markdown",
   "metadata": {},
   "source": [
    "# **6. Conclusion**"
   ]
  },
  {
   "cell_type": "markdown",
   "metadata": {},
   "source": [
    "## *Table of Contents*"
   ]
  },
  {
   "cell_type": "markdown",
   "metadata": {},
   "source": [
    "1. [Introduction](./01_Introduction.ipynb)\n",
    "2. [Data Cleaning](./02_Data_Cleaning.ipynb)\n",
    "3. [EDA and Feature Engineering](./03_Exploratory_Data_Analysis.ipynb)\n",
    "4. [Regression Modeling](./04_Regression_Modeling.ipynb)\n",
    "5. [Time_Series](./05_Time_Series.ipynb)\n",
    "6. [**Conclusion**](./06_Conclusion.ipynb)"
   ]
  }
 ],
 "metadata": {
  "language_info": {
   "name": "python"
  }
 },
 "nbformat": 4,
 "nbformat_minor": 2
}
